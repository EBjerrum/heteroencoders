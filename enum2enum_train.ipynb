{
 "cells": [
  {
   "cell_type": "code",
   "execution_count": 1,
   "metadata": {
    "collapsed": true
   },
   "outputs": [],
   "source": [
    "import pandas as pd\n",
    "import numpy as np\n",
    "from rdkit import Chem\n",
    "from rdkit.Chem import AllChem\n",
    "import pickle\n",
    "#import cPickle as pickle\n",
    "\n",
    "import matplotlib.pyplot as plt\n",
    "%matplotlib inline\n",
    "\n",
    "import h5py, ast\n",
    "\n"
   ]
  },
  {
   "cell_type": "markdown",
   "metadata": {},
   "source": [
    "# Importing training data\n",
    "The molecules for training are the first 100.000 extracted from ChemBL23 and saved as RDKit binary strings. The molecule objects can be fast recreated from the binary strings, while avoiding pickling the molecule objects before saving into the HDF5 file. The \"info\" dataset in the file contains information about the maximum length seen for the SMILES representations of the molecules as well as the characters encounted.\n",
    "\n",
    "The dataset is a bit small, but can then be included on GitHub for illustration purposes."
   ]
  },
  {
   "cell_type": "code",
   "execution_count": 2,
   "metadata": {},
   "outputs": [],
   "source": [
    "h5f = h5py.File('data/chembl_mols_as_binstrings.h5', 'r')"
   ]
  },
  {
   "cell_type": "code",
   "execution_count": 3,
   "metadata": {
    "collapsed": true
   },
   "outputs": [],
   "source": [
    "_info = h5f['info'].value\n",
    "info = ast.literal_eval(_info.decode(\"utf-8\"))\n",
    "                        \n",
    "maxlen = info['maxlen']\n",
    "charset = info['charset']"
   ]
  },
  {
   "cell_type": "code",
   "execution_count": 4,
   "metadata": {
    "collapsed": true
   },
   "outputs": [],
   "source": [
    "#Simple split based on position\n",
    "mols = h5f['mols'][:90000]\n",
    "mols_test = h5f['mols'][90000:]"
   ]
  },
  {
   "cell_type": "markdown",
   "metadata": {},
   "source": [
    "# Preparing generators\n",
    "\n",
    "The conversion from molecules to one-hot encoded arrays is handled with the molvecgen objects. It's necessary to download/clone the repository https://github.com/EBjerrum/molvecgen and run the setup script (python setup.py install)"
   ]
  },
  {
   "cell_type": "code",
   "execution_count": 5,
   "metadata": {
    "collapsed": true
   },
   "outputs": [],
   "source": [
    "from molvecgen import SmilesVectorizer\n",
    "from molvecgen import HetSmilesGenerator"
   ]
  },
  {
   "cell_type": "markdown",
   "metadata": {},
   "source": [
    "Two vectorizers are needed, one for the encoder input, which is padded to the left, and one to output (+ teacher forcing input) which is right padded."
   ]
  },
  {
   "cell_type": "code",
   "execution_count": 6,
   "metadata": {
    "collapsed": true
   },
   "outputs": [],
   "source": [
    "smilesvec1 = SmilesVectorizer(canonical=False, augment=True, maxlength=maxlen, charset=charset, binary=True)\n",
    "smilesvec2 = SmilesVectorizer(canonical=False, augment=True, maxlength=maxlen, charset=charset, binary=True, leftpad=False)"
   ]
  },
  {
   "cell_type": "code",
   "execution_count": 7,
   "metadata": {},
   "outputs": [
    {
     "name": "stdout",
     "output_type": "stream",
     "text": [
      "<class 'molvecgen.generators.HetSmilesGenerator'>\n",
      "<class 'type'>\n",
      "<class 'molvecgen.generators.HetSmilesGenerator'>\n",
      "<class 'type'>\n"
     ]
    }
   ],
   "source": [
    "batch_size=256\n",
    "train_gen = HetSmilesGenerator(mols, None, smilesvec1, smilesvec2, batch_size=batch_size, shuffle=True)\n",
    "test_gen = HetSmilesGenerator(mols_test, None, smilesvec1, smilesvec2, batch_size=batch_size, shuffle=True)"
   ]
  },
  {
   "cell_type": "code",
   "execution_count": 8,
   "metadata": {
    "collapsed": true
   },
   "outputs": [],
   "source": [
    "steps_per_epoch = len(mols)//batch_size\n",
    "validation_steps = len(mols_test)//batch_size"
   ]
  },
  {
   "cell_type": "markdown",
   "metadata": {},
   "source": [
    "## Testing the vectorizer\n",
    "A single mol is extracted from the molecules and transformed. The \"pianorolls\" and dimensions are plotted."
   ]
  },
  {
   "cell_type": "code",
   "execution_count": 9,
   "metadata": {
    "collapsed": true
   },
   "outputs": [],
   "source": [
    "mol = mols[0:1]"
   ]
  },
  {
   "cell_type": "code",
   "execution_count": 10,
   "metadata": {
    "collapsed": true
   },
   "outputs": [],
   "source": [
    "i1 = smilesvec1.transform(mol)"
   ]
  },
  {
   "cell_type": "code",
   "execution_count": 11,
   "metadata": {},
   "outputs": [
    {
     "data": {
      "text/plain": [
       "<matplotlib.image.AxesImage at 0x7f441bdb9e10>"
      ]
     },
     "execution_count": 11,
     "metadata": {},
     "output_type": "execute_result"
    },
    {
     "data": {
      "image/png": "[encoded data removed]",
      "text/plain": [
       "<Figure size 1152x283.569 with 1 Axes>"
      ]
     },
     "metadata": {
      "needs_background": "light"
     },
     "output_type": "display_data"
    }
   ],
   "source": [
    "plt.matshow(i1[0].T)"
   ]
  },
  {
   "cell_type": "markdown",
   "metadata": {},
   "source": [
    "The next function yields an augmented batch."
   ]
  },
  {
   "cell_type": "code",
   "execution_count": 12,
   "metadata": {
    "collapsed": true
   },
   "outputs": [],
   "source": [
    "[i1, i2], o = train_gen.next()"
   ]
  },
  {
   "cell_type": "code",
   "execution_count": 13,
   "metadata": {},
   "outputs": [
    {
     "name": "stdout",
     "output_type": "stream",
     "text": [
      "(256, 195, 48)\n",
      "(256, 194, 48)\n",
      "(256, 194, 48)\n"
     ]
    },
    {
     "data": {
      "text/plain": [
       "<matplotlib.image.AxesImage at 0x7f441a152b38>"
      ]
     },
     "execution_count": 13,
     "metadata": {},
     "output_type": "execute_result"
    },
    {
     "data": {
      "image/png": "[encoded data removed]",
      "text/plain": [
       "<Figure size 1152x283.569 with 1 Axes>"
      ]
     },
     "metadata": {
      "needs_background": "light"
     },
     "output_type": "display_data"
    },
    {
     "data": {
      "image/png": "[encoded data removed]",
      "text/plain": [
       "<Figure size 1152x285.031 with 1 Axes>"
      ]
     },
     "metadata": {
      "needs_background": "light"
     },
     "output_type": "display_data"
    },
    {
     "data": {
      "image/png": "[encoded data removed]",
      "text/plain": [
       "<Figure size 1152x285.031 with 1 Axes>"
      ]
     },
     "metadata": {
      "needs_background": "light"
     },
     "output_type": "display_data"
    }
   ],
   "source": [
    "print(i1.shape)\n",
    "plt.matshow(i1[0].T)\n",
    "print(i2.shape)\n",
    "plt.matshow(i2[0].T)\n",
    "print(o.shape)\n",
    "plt.matshow(o[0].T)"
   ]
  },
  {
   "cell_type": "markdown",
   "metadata": {},
   "source": [
    "# Build neural network"
   ]
  },
  {
   "cell_type": "code",
   "execution_count": 14,
   "metadata": {},
   "outputs": [],
   "source": [
    "#Grow as needed\n",
    "import tensorflow as tf\n",
    "config = tf.ConfigProto()\n",
    "config.gpu_options.allow_growth=True\n",
    "sess = tf.Session(config=config)"
   ]
  },
  {
   "cell_type": "code",
   "execution_count": 15,
   "metadata": {},
   "outputs": [
    {
     "name": "stderr",
     "output_type": "stream",
     "text": [
      "Using TensorFlow backend.\n"
     ]
    },
    {
     "data": {
      "text/plain": [
       "'2.2.4'"
      ]
     },
     "execution_count": 15,
     "metadata": {},
     "output_type": "execute_result"
    }
   ],
   "source": [
    "import keras\n",
    "keras.__version__"
   ]
  },
  {
   "cell_type": "code",
   "execution_count": 16,
   "metadata": {},
   "outputs": [],
   "source": [
    "from keras.layers import Input, Conv2D, MaxPooling2D, GlobalMaxPooling2D, GlobalAveragePooling2D\n",
    "from keras.layers import Concatenate, Dense, LSTM, Flatten, RepeatVector, TimeDistributed, Dropout\n",
    "from keras.models import Model\n",
    "from keras.optimizers import Adam\n",
    "from keras.layers import Bidirectional, GaussianNoise, BatchNormalization\n",
    "\n",
    "#Faster drop-in for LSTM using CuDNN on TF backend on GPU\n",
    "from keras.layers import CuDNNLSTM as LSTM"
   ]
  },
  {
   "cell_type": "code",
   "execution_count": 24,
   "metadata": {
    "collapsed": true
   },
   "outputs": [],
   "source": [
    "#The input encoder conv NN model\n",
    "\n",
    "#Shapes needed for the definition of the network\n",
    "input_shape = smilesvec1.dims\n",
    "dec_input_shape = train_gen.dec_dims\n",
    "\n",
    "output_len = smilesvec1.dims[0]-1\n",
    "output_dims = smilesvec1.dims[-1]\n",
    "\n",
    "\n",
    "lstm_dim = 256\n",
    "bottleneck_dim = 128\n",
    "h_activation = \"relu\"\n",
    "\n",
    "bn_momentum=0.9\n"
   ]
  },
  {
   "cell_type": "code",
   "execution_count": 25,
   "metadata": {},
   "outputs": [
    {
     "name": "stdout",
     "output_type": "stream",
     "text": [
      "__________________________________________________________________________________________________\n",
      "Layer (type)                    Output Shape         Param #     Connected to                     \n",
      "==================================================================================================\n",
      "input_5 (InputLayer)            (None, 195, 48)      0                                            \n",
      "__________________________________________________________________________________________________\n",
      "bidirectional_5 (Bidirectional) [(None, 195, 256), ( 182272      input_5[0][0]                    \n",
      "__________________________________________________________________________________________________\n",
      "batch_normalization_13 (BatchNo (None, 195, 256)     1024        bidirectional_5[0][0]            \n",
      "__________________________________________________________________________________________________\n",
      "bidirectional_6 (Bidirectional) [(None, 256), (None, 395264      batch_normalization_13[0][0]     \n",
      "__________________________________________________________________________________________________\n",
      "concatenate_3 (Concatenate)     (None, 1024)         0           bidirectional_5[0][1]            \n",
      "                                                                 bidirectional_5[0][2]            \n",
      "                                                                 bidirectional_6[0][1]            \n",
      "                                                                 bidirectional_6[0][2]            \n",
      "                                                                 bidirectional_5[0][3]            \n",
      "                                                                 bidirectional_5[0][4]            \n",
      "                                                                 bidirectional_6[0][3]            \n",
      "                                                                 bidirectional_6[0][4]            \n",
      "__________________________________________________________________________________________________\n",
      "batch_normalization_14 (BatchNo (None, 1024)         4096        concatenate_3[0][0]              \n",
      "__________________________________________________________________________________________________\n",
      "bottleneck_relu (Dense)         (None, 128)          131200      batch_normalization_14[0][0]     \n",
      "__________________________________________________________________________________________________\n",
      "BN_bottleneck (BatchNormalizati (None, 128)          512         bottleneck_relu[0][0]            \n",
      "__________________________________________________________________________________________________\n",
      "dense_9 (Dense)                 (None, 256)          33024       BN_bottleneck[0][0]              \n",
      "__________________________________________________________________________________________________\n",
      "dense_10 (Dense)                (None, 256)          33024       BN_bottleneck[0][0]              \n",
      "__________________________________________________________________________________________________\n",
      "input_6 (InputLayer)            (None, 194, 48)      0                                            \n",
      "__________________________________________________________________________________________________\n",
      "batch_normalization_15 (BatchNo (None, 256)          1024        dense_9[0][0]                    \n",
      "__________________________________________________________________________________________________\n",
      "batch_normalization_16 (BatchNo (None, 256)          1024        dense_10[0][0]                   \n",
      "__________________________________________________________________________________________________\n",
      "LSTM1_decoder (CuDNNLSTM)       (None, 194, 256)     313344      input_6[0][0]                    \n",
      "                                                                 batch_normalization_15[0][0]     \n",
      "                                                                 batch_normalization_16[0][0]     \n",
      "__________________________________________________________________________________________________\n",
      "dense_11 (Dense)                (None, 256)          33024       BN_bottleneck[0][0]              \n",
      "__________________________________________________________________________________________________\n",
      "dense_12 (Dense)                (None, 256)          33024       BN_bottleneck[0][0]              \n",
      "__________________________________________________________________________________________________\n",
      "BN_decoder (BatchNormalization) (None, 194, 256)     1024        LSTM1_decoder[0][0]              \n",
      "__________________________________________________________________________________________________\n",
      "batch_normalization_17 (BatchNo (None, 256)          1024        dense_11[0][0]                   \n",
      "__________________________________________________________________________________________________\n",
      "batch_normalization_18 (BatchNo (None, 256)          1024        dense_12[0][0]                   \n",
      "__________________________________________________________________________________________________\n",
      "LSTM2_decoder (CuDNNLSTM)       (None, 194, 256)     526336      BN_decoder[0][0]                 \n",
      "                                                                 batch_normalization_17[0][0]     \n",
      "                                                                 batch_normalization_18[0][0]     \n",
      "__________________________________________________________________________________________________\n",
      "Dense_decoder (Dense)           (None, 194, 48)      12336       LSTM2_decoder[0][0]              \n",
      "==================================================================================================\n",
      "Total params: 1,703,600\n",
      "Trainable params: 1,698,224\n",
      "Non-trainable params: 5,376\n",
      "__________________________________________________________________________________________________\n",
      "None\n"
     ]
    }
   ],
   "source": [
    "encoder_inputs = Input(shape=input_shape)\n",
    "x = encoder_inputs\n",
    "\n",
    "#The two encoder layers, number of cells are halved as Bidirectional\n",
    "encoder = Bidirectional(LSTM(lstm_dim//2,\n",
    "               return_sequences=True, #We return at each RNN step\n",
    "               return_state=True,\n",
    "               name=\"Encoder_LSTM\"))\n",
    "\n",
    "encoder2 = Bidirectional(LSTM(lstm_dim//2,\n",
    "               return_state=True, #Return the states at end of the batch\n",
    "               name=\"Encoder_LSTM2\"))\n",
    "\n",
    "#Get ouputs and final states of both layers\n",
    "x ,state_h, state_c, state_h_reverse, state_c_reverse = encoder(x)\n",
    "x = BatchNormalization(momentum=bn_momentum)(x)\n",
    "encoder_outputs, state_h2, state_c2 , state_h2_reverse, state_c2_reverse = encoder2(x)\n",
    "\n",
    "#The concatenate states\n",
    "states = Concatenate(axis=-1)([state_h, state_c, state_h2, state_c2,\n",
    "                              state_h_reverse, state_c_reverse, state_h2_reverse, state_c2_reverse])\n",
    "\n",
    "states = BatchNormalization(momentum=bn_momentum)(states)\n",
    "\n",
    "#A non-linear recombination\n",
    "neck_relu = Dense(bottleneck_dim, activation=h_activation, name='bottleneck_relu')\n",
    "neck_outputs = neck_relu(states)\n",
    "neck_outputs = BatchNormalization(momentum=bn_momentum, name=\"BN_bottleneck\")(neck_outputs)\n",
    "\n",
    "#The output decoders for initial states of decoder\n",
    "decode_h = Dense(lstm_dim, activation=\"relu\")\n",
    "decode_c = Dense(lstm_dim, activation=\"relu\")\n",
    "decode_h2 = Dense(lstm_dim, activation=\"relu\")\n",
    "decode_c2 = Dense(lstm_dim, activation=\"relu\")\n",
    "\n",
    "#The output tensors for initial states of decoder \n",
    "state_h_decoded =  decode_h(neck_outputs)\n",
    "state_c_decoded =  decode_c(neck_outputs)\n",
    "state_h_decoded2 =  decode_h2(neck_outputs)\n",
    "state_c_decoded2 =  decode_c2(neck_outputs)\n",
    "\n",
    "#Save BN layers for later reuse\n",
    "state_h_decoded_BN =  BatchNormalization(momentum=bn_momentum)\n",
    "state_c_decoded_BN =  BatchNormalization(momentum=bn_momentum)\n",
    "state_h_decoded2_BN =  BatchNormalization(momentum=bn_momentum)\n",
    "state_c_decoded2_BN =  BatchNormalization(momentum=bn_momentum)\n",
    "\n",
    "state_h_decoded =  state_h_decoded_BN(state_h_decoded)\n",
    "state_c_decoded =  state_c_decoded_BN(state_c_decoded)\n",
    "state_h_decoded2 =  state_h_decoded2_BN(state_h_decoded2)\n",
    "state_c_decoded2 =  state_c_decoded2_BN(state_c_decoded2)\n",
    "\n",
    "#The initial states of the decoder\n",
    "encoder_states = [state_h_decoded, state_c_decoded]\n",
    "encoder_states2 = [state_h_decoded2, state_c_decoded2]\n",
    "\n",
    "#This is the start character padded OHE smiles for teacher forcing\n",
    "decoder_inputs = Input(shape=dec_input_shape)\n",
    "\n",
    "#The Decoder LSTM layers\n",
    "decoder_lstm = LSTM(lstm_dim,\n",
    "                    return_sequences=True,\n",
    "                    name='LSTM1_decoder'\n",
    "                   )\n",
    "decoder_lstm2 = LSTM(lstm_dim,\n",
    "                    return_sequences=True,\n",
    "                    name='LSTM2_decoder'\n",
    "                   )\n",
    "\n",
    "\n",
    "xo = decoder_lstm(decoder_inputs, initial_state=encoder_states)\n",
    "xo = BatchNormalization(momentum=bn_momentum, name=\"BN_decoder\")(xo)\n",
    "decoder_outputs = decoder_lstm2(xo, initial_state=encoder_states2)\n",
    "\n",
    "outputs = Dense(output_dims, activation='softmax', name=\"Dense_decoder\")(decoder_outputs)\n",
    "\n",
    "#Define the model, that inputs the training vector for two places, and predicts one character ahead of the input\n",
    "model = Model([encoder_inputs, decoder_inputs], outputs)\n",
    "print(model.summary())"
   ]
  },
  {
   "cell_type": "code",
   "execution_count": 26,
   "metadata": {
    "collapsed": true
   },
   "outputs": [],
   "source": [
    "#Load model\n",
    "#from keras.models import load_model\n",
    "#name = \"models/enum2enum_smi2smi_val_loss_0.1950\"\n",
    "#model = load_model(\"%s_full.h5\"%name)"
   ]
  },
  {
   "cell_type": "markdown",
   "metadata": {},
   "source": [
    "# Train Network"
   ]
  },
  {
   "cell_type": "code",
   "execution_count": 27,
   "metadata": {
    "collapsed": true
   },
   "outputs": [],
   "source": [
    "#Compile model\n",
    "#from tensorflow.python.keras.optimizers import RMSprop, Adam\n",
    "from keras.optimizers import RMSprop, Adam\n",
    "\n",
    "lr=0.0005\n",
    "opt=Adam(lr=lr) #Default 0.001\n",
    "model.compile(loss=\"categorical_crossentropy\", optimizer=opt)"
   ]
  },
  {
   "cell_type": "code",
   "execution_count": 28,
   "metadata": {},
   "outputs": [],
   "source": [
    "#from tensorflow.python.keras.callbacks import History, ReduceLROnPlateau\n",
    "from keras.callbacks import History, ReduceLROnPlateau\n",
    "h = History()\n",
    "rlr = ReduceLROnPlateau(monitor='val_loss', factor=0.5,patience=5, min_lr=1e-6, verbose=1, epsilon=1e-5)"
   ]
  },
  {
   "cell_type": "code",
   "execution_count": 29,
   "metadata": {
    "scrolled": true
   },
   "outputs": [
    {
     "name": "stdout",
     "output_type": "stream",
     "text": [
      "Epoch 1/50\n",
      "351/351 [==============================] - 210s 598ms/step - loss: 0.4587 - val_loss: 0.3627\n",
      "Epoch 2/50\n",
      "351/351 [==============================] - 202s 577ms/step - loss: 0.2557 - val_loss: 0.3108\n",
      "Epoch 3/50\n",
      "351/351 [==============================] - 203s 577ms/step - loss: 0.2186 - val_loss: 0.2656\n",
      "Epoch 4/50\n",
      "351/351 [==============================] - 202s 576ms/step - loss: 0.1970 - val_loss: 0.8414\n",
      "Epoch 5/50\n",
      "351/351 [==============================] - 202s 575ms/step - loss: 0.1826 - val_loss: 0.2730\n",
      "Epoch 6/50\n",
      "351/351 [==============================] - 202s 574ms/step - loss: 0.1709 - val_loss: 0.2788\n",
      "Epoch 7/50\n",
      "351/351 [==============================] - 202s 575ms/step - loss: 0.1616 - val_loss: 0.2985\n",
      "Epoch 8/50\n",
      "351/351 [==============================] - 202s 576ms/step - loss: 0.1549 - val_loss: 0.3492\n",
      "\n",
      "Epoch 00008: ReduceLROnPlateau reducing learning rate to 0.0002500000118743628.\n",
      "Epoch 9/50\n",
      "351/351 [==============================] - 202s 576ms/step - loss: 0.1464 - val_loss: 0.3149\n",
      "Epoch 10/50\n",
      "351/351 [==============================] - 203s 578ms/step - loss: 0.1440 - val_loss: 0.7125\n",
      "Epoch 11/50\n",
      "351/351 [==============================] - 203s 578ms/step - loss: 0.1414 - val_loss: 0.2412\n",
      "Epoch 12/50\n",
      "351/351 [==============================] - 202s 575ms/step - loss: 0.1388 - val_loss: 0.3006\n",
      "Epoch 13/50\n",
      "351/351 [==============================] - 202s 576ms/step - loss: 0.1367 - val_loss: 0.1586\n",
      "Epoch 14/50\n",
      "351/351 [==============================] - 202s 574ms/step - loss: 0.1346 - val_loss: 0.4848\n",
      "Epoch 15/50\n",
      "351/351 [==============================] - 202s 575ms/step - loss: 0.1331 - val_loss: 0.1763\n",
      "Epoch 16/50\n",
      "351/351 [==============================] - 202s 575ms/step - loss: 0.1309 - val_loss: 0.2139\n",
      "Epoch 17/50\n",
      "351/351 [==============================] - 202s 575ms/step - loss: 0.1289 - val_loss: 0.1553\n",
      "Epoch 18/50\n",
      "351/351 [==============================] - 202s 575ms/step - loss: 0.1272 - val_loss: 0.1845\n",
      "Epoch 19/50\n",
      "351/351 [==============================] - 201s 574ms/step - loss: 0.1256 - val_loss: 0.5706\n",
      "Epoch 20/50\n",
      "351/351 [==============================] - 202s 575ms/step - loss: 0.1071 - val_loss: 0.1195\n",
      "Epoch 44/50\n",
      " 15/351 [>.............................] - ETA: 3:03 - loss: 0.1070"
     ]
    },
    {
     "ename": "KeyboardInterrupt",
     "evalue": "",
     "output_type": "error",
     "traceback": [
      "\u001b[0;31m---------------------------------------------------------------------------\u001b[0m",
      "\u001b[0;31mKeyboardInterrupt\u001b[0m                         Traceback (most recent call last)",
      "\u001b[0;32m<ipython-input-29-34ae918f169d>\u001b[0m in \u001b[0;36m<module>\u001b[0;34m\u001b[0m\n\u001b[1;32m      4\u001b[0m                               \u001b[0mvalidation_data\u001b[0m\u001b[0;34m=\u001b[0m\u001b[0mtest_gen\u001b[0m\u001b[0;34m,\u001b[0m\u001b[0;34m\u001b[0m\u001b[0;34m\u001b[0m\u001b[0m\n\u001b[1;32m      5\u001b[0m                               \u001b[0mvalidation_steps\u001b[0m\u001b[0;34m=\u001b[0m\u001b[0mvalidation_steps\u001b[0m\u001b[0;34m,\u001b[0m\u001b[0;34m\u001b[0m\u001b[0;34m\u001b[0m\u001b[0m\n\u001b[0;32m----> 6\u001b[0;31m                               \u001b[0mcallbacks\u001b[0m\u001b[0;34m=\u001b[0m\u001b[0;34m[\u001b[0m\u001b[0mrlr\u001b[0m\u001b[0;34m,\u001b[0m \u001b[0mh\u001b[0m\u001b[0;34m]\u001b[0m\u001b[0;34m\u001b[0m\u001b[0;34m\u001b[0m\u001b[0m\n\u001b[0m\u001b[1;32m      7\u001b[0m                              )\n",
      "\u001b[0;32m~/miniconda3/envs/keras2/lib/python3.6/site-packages/keras/legacy/interfaces.py\u001b[0m in \u001b[0;36mwrapper\u001b[0;34m(*args, **kwargs)\u001b[0m\n\u001b[1;32m     89\u001b[0m                 warnings.warn('Update your `' + object_name + '` call to the ' +\n\u001b[1;32m     90\u001b[0m                               'Keras 2 API: ' + signature, stacklevel=2)\n\u001b[0;32m---> 91\u001b[0;31m             \u001b[0;32mreturn\u001b[0m \u001b[0mfunc\u001b[0m\u001b[0;34m(\u001b[0m\u001b[0;34m*\u001b[0m\u001b[0margs\u001b[0m\u001b[0;34m,\u001b[0m \u001b[0;34m**\u001b[0m\u001b[0mkwargs\u001b[0m\u001b[0;34m)\u001b[0m\u001b[0;34m\u001b[0m\u001b[0;34m\u001b[0m\u001b[0m\n\u001b[0m\u001b[1;32m     92\u001b[0m         \u001b[0mwrapper\u001b[0m\u001b[0;34m.\u001b[0m\u001b[0m_original_function\u001b[0m \u001b[0;34m=\u001b[0m \u001b[0mfunc\u001b[0m\u001b[0;34m\u001b[0m\u001b[0;34m\u001b[0m\u001b[0m\n\u001b[1;32m     93\u001b[0m         \u001b[0;32mreturn\u001b[0m \u001b[0mwrapper\u001b[0m\u001b[0;34m\u001b[0m\u001b[0;34m\u001b[0m\u001b[0m\n",
      "\u001b[0;32m~/miniconda3/envs/keras2/lib/python3.6/site-packages/keras/engine/training.py\u001b[0m in \u001b[0;36mfit_generator\u001b[0;34m(self, generator, steps_per_epoch, epochs, verbose, callbacks, validation_data, validation_steps, class_weight, max_queue_size, workers, use_multiprocessing, shuffle, initial_epoch)\u001b[0m\n\u001b[1;32m   1416\u001b[0m             \u001b[0muse_multiprocessing\u001b[0m\u001b[0;34m=\u001b[0m\u001b[0muse_multiprocessing\u001b[0m\u001b[0;34m,\u001b[0m\u001b[0;34m\u001b[0m\u001b[0;34m\u001b[0m\u001b[0m\n\u001b[1;32m   1417\u001b[0m             \u001b[0mshuffle\u001b[0m\u001b[0;34m=\u001b[0m\u001b[0mshuffle\u001b[0m\u001b[0;34m,\u001b[0m\u001b[0;34m\u001b[0m\u001b[0;34m\u001b[0m\u001b[0m\n\u001b[0;32m-> 1418\u001b[0;31m             initial_epoch=initial_epoch)\n\u001b[0m\u001b[1;32m   1419\u001b[0m \u001b[0;34m\u001b[0m\u001b[0m\n\u001b[1;32m   1420\u001b[0m     \u001b[0;34m@\u001b[0m\u001b[0minterfaces\u001b[0m\u001b[0;34m.\u001b[0m\u001b[0mlegacy_generator_methods_support\u001b[0m\u001b[0;34m\u001b[0m\u001b[0;34m\u001b[0m\u001b[0m\n",
      "\u001b[0;32m~/miniconda3/envs/keras2/lib/python3.6/site-packages/keras/engine/training_generator.py\u001b[0m in \u001b[0;36mfit_generator\u001b[0;34m(model, generator, steps_per_epoch, epochs, verbose, callbacks, validation_data, validation_steps, class_weight, max_queue_size, workers, use_multiprocessing, shuffle, initial_epoch)\u001b[0m\n\u001b[1;32m    215\u001b[0m                 outs = model.train_on_batch(x, y,\n\u001b[1;32m    216\u001b[0m                                             \u001b[0msample_weight\u001b[0m\u001b[0;34m=\u001b[0m\u001b[0msample_weight\u001b[0m\u001b[0;34m,\u001b[0m\u001b[0;34m\u001b[0m\u001b[0;34m\u001b[0m\u001b[0m\n\u001b[0;32m--> 217\u001b[0;31m                                             class_weight=class_weight)\n\u001b[0m\u001b[1;32m    218\u001b[0m \u001b[0;34m\u001b[0m\u001b[0m\n\u001b[1;32m    219\u001b[0m                 \u001b[0mouts\u001b[0m \u001b[0;34m=\u001b[0m \u001b[0mto_list\u001b[0m\u001b[0;34m(\u001b[0m\u001b[0mouts\u001b[0m\u001b[0;34m)\u001b[0m\u001b[0;34m\u001b[0m\u001b[0;34m\u001b[0m\u001b[0m\n",
      "\u001b[0;32m~/miniconda3/envs/keras2/lib/python3.6/site-packages/keras/engine/training.py\u001b[0m in \u001b[0;36mtrain_on_batch\u001b[0;34m(self, x, y, sample_weight, class_weight)\u001b[0m\n\u001b[1;32m   1215\u001b[0m             \u001b[0mins\u001b[0m \u001b[0;34m=\u001b[0m \u001b[0mx\u001b[0m \u001b[0;34m+\u001b[0m \u001b[0my\u001b[0m \u001b[0;34m+\u001b[0m \u001b[0msample_weights\u001b[0m\u001b[0;34m\u001b[0m\u001b[0;34m\u001b[0m\u001b[0m\n\u001b[1;32m   1216\u001b[0m         \u001b[0mself\u001b[0m\u001b[0;34m.\u001b[0m\u001b[0m_make_train_function\u001b[0m\u001b[0;34m(\u001b[0m\u001b[0;34m)\u001b[0m\u001b[0;34m\u001b[0m\u001b[0;34m\u001b[0m\u001b[0m\n\u001b[0;32m-> 1217\u001b[0;31m         \u001b[0moutputs\u001b[0m \u001b[0;34m=\u001b[0m \u001b[0mself\u001b[0m\u001b[0;34m.\u001b[0m\u001b[0mtrain_function\u001b[0m\u001b[0;34m(\u001b[0m\u001b[0mins\u001b[0m\u001b[0;34m)\u001b[0m\u001b[0;34m\u001b[0m\u001b[0;34m\u001b[0m\u001b[0m\n\u001b[0m\u001b[1;32m   1218\u001b[0m         \u001b[0;32mreturn\u001b[0m \u001b[0munpack_singleton\u001b[0m\u001b[0;34m(\u001b[0m\u001b[0moutputs\u001b[0m\u001b[0;34m)\u001b[0m\u001b[0;34m\u001b[0m\u001b[0;34m\u001b[0m\u001b[0m\n\u001b[1;32m   1219\u001b[0m \u001b[0;34m\u001b[0m\u001b[0m\n",
      "\u001b[0;32m~/miniconda3/envs/keras2/lib/python3.6/site-packages/keras/backend/tensorflow_backend.py\u001b[0m in \u001b[0;36m__call__\u001b[0;34m(self, inputs)\u001b[0m\n\u001b[1;32m   2713\u001b[0m                 \u001b[0;32mreturn\u001b[0m \u001b[0mself\u001b[0m\u001b[0;34m.\u001b[0m\u001b[0m_legacy_call\u001b[0m\u001b[0;34m(\u001b[0m\u001b[0minputs\u001b[0m\u001b[0;34m)\u001b[0m\u001b[0;34m\u001b[0m\u001b[0;34m\u001b[0m\u001b[0m\n\u001b[1;32m   2714\u001b[0m \u001b[0;34m\u001b[0m\u001b[0m\n\u001b[0;32m-> 2715\u001b[0;31m             \u001b[0;32mreturn\u001b[0m \u001b[0mself\u001b[0m\u001b[0;34m.\u001b[0m\u001b[0m_call\u001b[0m\u001b[0;34m(\u001b[0m\u001b[0minputs\u001b[0m\u001b[0;34m)\u001b[0m\u001b[0;34m\u001b[0m\u001b[0;34m\u001b[0m\u001b[0m\n\u001b[0m\u001b[1;32m   2716\u001b[0m         \u001b[0;32melse\u001b[0m\u001b[0;34m:\u001b[0m\u001b[0;34m\u001b[0m\u001b[0;34m\u001b[0m\u001b[0m\n\u001b[1;32m   2717\u001b[0m             \u001b[0;32mif\u001b[0m \u001b[0mpy_any\u001b[0m\u001b[0;34m(\u001b[0m\u001b[0mis_tensor\u001b[0m\u001b[0;34m(\u001b[0m\u001b[0mx\u001b[0m\u001b[0;34m)\u001b[0m \u001b[0;32mfor\u001b[0m \u001b[0mx\u001b[0m \u001b[0;32min\u001b[0m \u001b[0minputs\u001b[0m\u001b[0;34m)\u001b[0m\u001b[0;34m:\u001b[0m\u001b[0;34m\u001b[0m\u001b[0;34m\u001b[0m\u001b[0m\n",
      "\u001b[0;32m~/miniconda3/envs/keras2/lib/python3.6/site-packages/keras/backend/tensorflow_backend.py\u001b[0m in \u001b[0;36m_call\u001b[0;34m(self, inputs)\u001b[0m\n\u001b[1;32m   2673\u001b[0m             \u001b[0mfetched\u001b[0m \u001b[0;34m=\u001b[0m \u001b[0mself\u001b[0m\u001b[0;34m.\u001b[0m\u001b[0m_callable_fn\u001b[0m\u001b[0;34m(\u001b[0m\u001b[0;34m*\u001b[0m\u001b[0marray_vals\u001b[0m\u001b[0;34m,\u001b[0m \u001b[0mrun_metadata\u001b[0m\u001b[0;34m=\u001b[0m\u001b[0mself\u001b[0m\u001b[0;34m.\u001b[0m\u001b[0mrun_metadata\u001b[0m\u001b[0;34m)\u001b[0m\u001b[0;34m\u001b[0m\u001b[0;34m\u001b[0m\u001b[0m\n\u001b[1;32m   2674\u001b[0m         \u001b[0;32melse\u001b[0m\u001b[0;34m:\u001b[0m\u001b[0;34m\u001b[0m\u001b[0;34m\u001b[0m\u001b[0m\n\u001b[0;32m-> 2675\u001b[0;31m             \u001b[0mfetched\u001b[0m \u001b[0;34m=\u001b[0m \u001b[0mself\u001b[0m\u001b[0;34m.\u001b[0m\u001b[0m_callable_fn\u001b[0m\u001b[0;34m(\u001b[0m\u001b[0;34m*\u001b[0m\u001b[0marray_vals\u001b[0m\u001b[0;34m)\u001b[0m\u001b[0;34m\u001b[0m\u001b[0;34m\u001b[0m\u001b[0m\n\u001b[0m\u001b[1;32m   2676\u001b[0m         \u001b[0;32mreturn\u001b[0m \u001b[0mfetched\u001b[0m\u001b[0;34m[\u001b[0m\u001b[0;34m:\u001b[0m\u001b[0mlen\u001b[0m\u001b[0;34m(\u001b[0m\u001b[0mself\u001b[0m\u001b[0;34m.\u001b[0m\u001b[0moutputs\u001b[0m\u001b[0;34m)\u001b[0m\u001b[0;34m]\u001b[0m\u001b[0;34m\u001b[0m\u001b[0;34m\u001b[0m\u001b[0m\n\u001b[1;32m   2677\u001b[0m \u001b[0;34m\u001b[0m\u001b[0m\n",
      "\u001b[0;32m~/miniconda3/envs/keras2/lib/python3.6/site-packages/tensorflow/python/client/session.py\u001b[0m in \u001b[0;36m__call__\u001b[0;34m(self, *args, **kwargs)\u001b[0m\n\u001b[1;32m   1397\u001b[0m           ret = tf_session.TF_SessionRunCallable(\n\u001b[1;32m   1398\u001b[0m               \u001b[0mself\u001b[0m\u001b[0;34m.\u001b[0m\u001b[0m_session\u001b[0m\u001b[0;34m.\u001b[0m\u001b[0m_session\u001b[0m\u001b[0;34m,\u001b[0m \u001b[0mself\u001b[0m\u001b[0;34m.\u001b[0m\u001b[0m_handle\u001b[0m\u001b[0;34m,\u001b[0m \u001b[0margs\u001b[0m\u001b[0;34m,\u001b[0m \u001b[0mstatus\u001b[0m\u001b[0;34m,\u001b[0m\u001b[0;34m\u001b[0m\u001b[0;34m\u001b[0m\u001b[0m\n\u001b[0;32m-> 1399\u001b[0;31m               run_metadata_ptr)\n\u001b[0m\u001b[1;32m   1400\u001b[0m         \u001b[0;32mif\u001b[0m \u001b[0mrun_metadata\u001b[0m\u001b[0;34m:\u001b[0m\u001b[0;34m\u001b[0m\u001b[0;34m\u001b[0m\u001b[0m\n\u001b[1;32m   1401\u001b[0m           \u001b[0mproto_data\u001b[0m \u001b[0;34m=\u001b[0m \u001b[0mtf_session\u001b[0m\u001b[0;34m.\u001b[0m\u001b[0mTF_GetBuffer\u001b[0m\u001b[0;34m(\u001b[0m\u001b[0mrun_metadata_ptr\u001b[0m\u001b[0;34m)\u001b[0m\u001b[0;34m\u001b[0m\u001b[0;34m\u001b[0m\u001b[0m\n",
      "\u001b[0;31mKeyboardInterrupt\u001b[0m: "
     ]
    }
   ],
   "source": [
    "model.fit_generator(train_gen,\n",
    "                              steps_per_epoch=steps_per_epoch,\n",
    "                              epochs=50,\n",
    "                              validation_data=test_gen,\n",
    "                              validation_steps=validation_steps,\n",
    "                              callbacks=[rlr, h]\n",
    "                             )"
   ]
  },
  {
   "cell_type": "markdown",
   "metadata": {},
   "source": [
    "# Save network components"
   ]
  },
  {
   "cell_type": "code",
   "execution_count": 30,
   "metadata": {},
   "outputs": [
    {
     "name": "stdout",
     "output_type": "stream",
     "text": [
      "models/enum2enum_val_loss_0.1885\n"
     ]
    },
    {
     "name": "stderr",
     "output_type": "stream",
     "text": [
      "/home/kfxl284/miniconda3/envs/keras2/lib/python3.6/site-packages/keras/engine/network.py:877: UserWarning: Layer LSTM1_decoder was passed non-serializable keyword arguments: {'initial_state': [<tf.Tensor 'batch_normalization_15/cond/Merge:0' shape=(?, 256) dtype=float32>, <tf.Tensor 'batch_normalization_16/cond/Merge:0' shape=(?, 256) dtype=float32>]}. They will not be included in the serialized model (and thus will be missing at deserialization time).\n",
      "  '. They will not be included '\n",
      "/home/kfxl284/miniconda3/envs/keras2/lib/python3.6/site-packages/keras/engine/network.py:877: UserWarning: Layer LSTM2_decoder was passed non-serializable keyword arguments: {'initial_state': [<tf.Tensor 'batch_normalization_17/cond/Merge:0' shape=(?, 256) dtype=float32>, <tf.Tensor 'batch_normalization_18/cond/Merge:0' shape=(?, 256) dtype=float32>]}. They will not be included in the serialized model (and thus will be missing at deserialization time).\n",
      "  '. They will not be included '\n"
     ]
    }
   ],
   "source": [
    "#Basename for saving and save full model\n",
    "name=\"models/enum2enum_val_loss_%0.4F\"%np.mean(h.history['val_loss'][-10:])\n",
    "print(name)\n",
    "model.save(\"%s_full.h5\"%name)"
   ]
  },
  {
   "cell_type": "code",
   "execution_count": 31,
   "metadata": {
    "collapsed": true
   },
   "outputs": [],
   "source": [
    "#Save history\n",
    "pickle.dump( h.history, open( \"%s_trainhist.pickle\"%name, \"wb\" ) )"
   ]
  },
  {
   "cell_type": "code",
   "execution_count": 32,
   "metadata": {},
   "outputs": [
    {
     "data": {
      "image/png": "[encoded data removed]",
      "text/plain": [
       "<Figure size 432x288 with 1 Axes>"
      ]
     },
     "metadata": {
      "needs_background": "light"
     },
     "output_type": "display_data"
    }
   ],
   "source": [
    "plt.plot(h.history['loss'])\n",
    "plt.plot(h.history['val_loss'])\n",
    "\n",
    "plt.yscale('log')\n",
    "plt.savefig(\"%s_history_plot.png\"%name)\n"
   ]
  },
  {
   "cell_type": "code",
   "execution_count": 33,
   "metadata": {},
   "outputs": [
    {
     "name": "stdout",
     "output_type": "stream",
     "text": [
      "__________________________________________________________________________________________________\n",
      "Layer (type)                    Output Shape         Param #     Connected to                     \n",
      "==================================================================================================\n",
      "input_5 (InputLayer)            (None, 195, 48)      0                                            \n",
      "__________________________________________________________________________________________________\n",
      "bidirectional_5 (Bidirectional) [(None, 195, 256), ( 182272      input_5[0][0]                    \n",
      "__________________________________________________________________________________________________\n",
      "batch_normalization_13 (BatchNo (None, 195, 256)     1024        bidirectional_5[0][0]            \n",
      "__________________________________________________________________________________________________\n",
      "bidirectional_6 (Bidirectional) [(None, 256), (None, 395264      batch_normalization_13[0][0]     \n",
      "__________________________________________________________________________________________________\n",
      "concatenate_3 (Concatenate)     (None, 1024)         0           bidirectional_5[0][1]            \n",
      "                                                                 bidirectional_5[0][2]            \n",
      "                                                                 bidirectional_6[0][1]            \n",
      "                                                                 bidirectional_6[0][2]            \n",
      "                                                                 bidirectional_5[0][3]            \n",
      "                                                                 bidirectional_5[0][4]            \n",
      "                                                                 bidirectional_6[0][3]            \n",
      "                                                                 bidirectional_6[0][4]            \n",
      "__________________________________________________________________________________________________\n",
      "batch_normalization_14 (BatchNo (None, 1024)         4096        concatenate_3[0][0]              \n",
      "__________________________________________________________________________________________________\n",
      "bottleneck_relu (Dense)         (None, 128)          131200      batch_normalization_14[0][0]     \n",
      "__________________________________________________________________________________________________\n",
      "BN_bottleneck (BatchNormalizati (None, 128)          512         bottleneck_relu[0][0]            \n",
      "==================================================================================================\n",
      "Total params: 714,368\n",
      "Trainable params: 711,552\n",
      "Non-trainable params: 2,816\n",
      "__________________________________________________________________________________________________\n"
     ]
    }
   ],
   "source": [
    "#Save each part of the model\n",
    "#Encoder (Easy)\n",
    "mol_to_latent_model = Model(encoder_inputs, neck_outputs)\n",
    "mol_to_latent_model.save(\"%s_mol2lat.h5\"%name)\n",
    "mol_to_latent_model.summary()"
   ]
  },
  {
   "cell_type": "code",
   "execution_count": 34,
   "metadata": {},
   "outputs": [
    {
     "name": "stdout",
     "output_type": "stream",
     "text": [
      "__________________________________________________________________________________________________\n",
      "Layer (type)                    Output Shape         Param #     Connected to                     \n",
      "==================================================================================================\n",
      "input_7 (InputLayer)            (None, 128)          0                                            \n",
      "__________________________________________________________________________________________________\n",
      "dense_9 (Dense)                 (None, 256)          33024       input_7[0][0]                    \n",
      "__________________________________________________________________________________________________\n",
      "dense_10 (Dense)                (None, 256)          33024       input_7[0][0]                    \n",
      "__________________________________________________________________________________________________\n",
      "dense_11 (Dense)                (None, 256)          33024       input_7[0][0]                    \n",
      "__________________________________________________________________________________________________\n",
      "dense_12 (Dense)                (None, 256)          33024       input_7[0][0]                    \n",
      "__________________________________________________________________________________________________\n",
      "batch_normalization_15 (BatchNo (None, 256)          1024        dense_9[1][0]                    \n",
      "__________________________________________________________________________________________________\n",
      "batch_normalization_16 (BatchNo (None, 256)          1024        dense_10[1][0]                   \n",
      "__________________________________________________________________________________________________\n",
      "batch_normalization_17 (BatchNo (None, 256)          1024        dense_11[1][0]                   \n",
      "__________________________________________________________________________________________________\n",
      "batch_normalization_18 (BatchNo (None, 256)          1024        dense_12[1][0]                   \n",
      "==================================================================================================\n",
      "Total params: 136,192\n",
      "Trainable params: 134,144\n",
      "Non-trainable params: 2,048\n",
      "__________________________________________________________________________________________________\n"
     ]
    }
   ],
   "source": [
    "#Decoder (teacher enforcing): Part 1 lat to states\n",
    "#Why is leaky relu 128, is it only the activation function so, the one before should be dense with activation=linear??\n",
    "latent_input = Input(shape=(bottleneck_dim,))\n",
    "#reuse_layers\n",
    "state_h_decoded_save =  decode_h(latent_input)\n",
    "state_c_decoded_save =  decode_c(latent_input)\n",
    "state_h_decoded_save_2 =  decode_h2(latent_input)\n",
    "state_c_decoded_save_2 =  decode_c2(latent_input)\n",
    "\n",
    "#Reuse BN layers\n",
    "state_h_decoded_save =  state_h_decoded_BN(state_h_decoded_save)\n",
    "state_c_decoded_save =  state_c_decoded_BN(state_c_decoded_save)\n",
    "state_h_decoded_save_2 =  state_h_decoded2_BN(state_h_decoded_save_2)\n",
    "state_c_decoded_save_2 =  state_c_decoded2_BN(state_c_decoded_save_2)\n",
    "\n",
    "#Define model and save\n",
    "latent_to_states_model = Model(latent_input, [state_h_decoded_save, state_c_decoded_save, state_h_decoded_save_2, state_c_decoded_save_2])\n",
    "latent_to_states_model.save(\"%s_lat2stat.h5\"%name)\n",
    "latent_to_states_model.summary()"
   ]
  },
  {
   "cell_type": "code",
   "execution_count": 35,
   "metadata": {},
   "outputs": [
    {
     "name": "stdout",
     "output_type": "stream",
     "text": [
      "_________________________________________________________________\n",
      "Layer (type)                 Output Shape              Param #   \n",
      "=================================================================\n",
      "input_8 (InputLayer)         (1, 1, 48)                0         \n",
      "_________________________________________________________________\n",
      "LSTM1_decoder (CuDNNLSTM)    (1, 1, 256)               313344    \n",
      "_________________________________________________________________\n",
      "BN_decoder (BatchNormalizati (1, 1, 256)               1024      \n",
      "_________________________________________________________________\n",
      "LSTM2_decoder (CuDNNLSTM)    (1, 1, 256)               526336    \n",
      "_________________________________________________________________\n",
      "Dense_decoder (Dense)        (1, 1, 48)                12336     \n",
      "=================================================================\n",
      "Total params: 853,040\n",
      "Trainable params: 852,528\n",
      "Non-trainable params: 512\n",
      "_________________________________________________________________\n"
     ]
    }
   ],
   "source": [
    "#Decoder; stateful, This must match definition in full model\n",
    "#This is the start character padded OHE smiles\n",
    "inf_decoder_inputs = Input(batch_shape=(1,1, dec_input_shape[-1]))\n",
    "\n",
    "\n",
    "inf_decoder_lstm = LSTM(lstm_dim,\n",
    "                        return_sequences=True,\n",
    "                        name='LSTM1_decoder',\n",
    "                        stateful=True,\n",
    "                       )\n",
    "inf_decoder_lstm2 = LSTM(lstm_dim,\n",
    "                        return_sequences=True,\n",
    "                        name='LSTM2_decoder',\n",
    "                        stateful=True,\n",
    "                       )\n",
    "\n",
    "#Initial states will be set before decoding\n",
    "xo = inf_decoder_lstm(inf_decoder_inputs)\n",
    "xo = BatchNormalization(name=\"BN_decoder\")(xo)\n",
    "\n",
    "inf_decoder_outputs = inf_decoder_lstm2(xo)\n",
    "\n",
    "inf_outputs = Dense(output_dims, activation='softmax', name=\"Dense_decoder\")(inf_decoder_outputs)\n",
    "\n",
    "sample_model = Model(inf_decoder_inputs, inf_outputs)\n",
    "sample_model.summary()\n",
    "\n"
   ]
  },
  {
   "cell_type": "code",
   "execution_count": 36,
   "metadata": {
    "collapsed": true
   },
   "outputs": [],
   "source": [
    "#Copy the layers weight to the new non-batch architecture\n",
    "for layername in  [\"LSTM1_decoder\", \"LSTM2_decoder\", \"Dense_decoder\", \"BN_decoder\"]:\n",
    "    sample_model.get_layer(layername).set_weights(model.get_layer(layername).get_weights())"
   ]
  },
  {
   "cell_type": "code",
   "execution_count": 37,
   "metadata": {
    "collapsed": true
   },
   "outputs": [],
   "source": [
    "sample_model.save(\"%s_sample_model.h5\"%name)"
   ]
  },
  {
   "cell_type": "code",
   "execution_count": 38,
   "metadata": {},
   "outputs": [
    {
     "name": "stdout",
     "output_type": "stream",
     "text": [
      "total 148864\r\n",
      "-rw-rw---- 1 kfxl284 xem-scp-cc 20549632 Dec 11 09:39 enum2enum_val_loss_NAN_full.h5\r\n",
      "-rw-rw---- 1 kfxl284 xem-scp-cc      252 Dec 11 09:39 enum2enum_val_loss_NAN_trainhist.pickle\r\n",
      "-rw-rw---- 1 kfxl284 xem-scp-cc     4811 Dec 11 09:39 enum2enum_val_loss_NAN_history_plot.png\r\n",
      "-rw-rw---- 1 kfxl284 xem-scp-cc  2895864 Dec 11 09:40 enum2enum_val_loss_NAN_mol2lat.h5\r\n",
      "-rw-rw---- 1 kfxl284 xem-scp-cc 20535064 Dec 11 09:45 enum2enum_val_loss_5.8825_full.h5\r\n",
      "-rw-rw---- 1 kfxl284 xem-scp-cc 20535064 Dec 11 09:45 enum2enum_val_loss_5.2043_full.h5\r\n",
      "-rw-rw---- 1 kfxl284 xem-scp-cc      317 Dec 11 09:45 enum2enum_val_loss_5.2043_trainhist.pickle\r\n",
      "-rw-rw---- 1 kfxl284 xem-scp-cc     6175 Dec 11 09:45 enum2enum_val_loss_5.2043_history_plot.png\r\n",
      "-rw-rw---- 1 kfxl284 xem-scp-cc  2895880 Dec 11 09:45 enum2enum_val_loss_5.2043_mol2lat.h5\r\n",
      "-rw-rw---- 1 kfxl284 xem-scp-cc  3433112 Dec 11 09:49 enum2enum_val_loss_5.2043_sample_model.h5\r\n",
      "-rw-rw---- 1 kfxl284 xem-scp-cc   574600 Dec 11 09:50 enum2enum_val_loss_5.2043_lat2stat.h5\r\n",
      "-rw-rw---- 1 kfxl284 xem-scp-cc 20534784 Dec 11 10:30 enum2enum_val_loss_0.2189_full.h5\r\n",
      "-rw-rw---- 1 kfxl284 xem-scp-cc     6928 Dec 11 10:30 enum2enum_val_loss_0.2189_trainhist.pickle\r\n",
      "-rw-rw---- 1 kfxl284 xem-scp-cc    13815 Dec 11 10:31 enum2enum_val_loss_0.2189_history_plot.png\r\n",
      "-rw-rw---- 1 kfxl284 xem-scp-cc  2895864 Dec 11 10:31 enum2enum_val_loss_0.2189_mol2lat.h5\r\n",
      "-rw-rw---- 1 kfxl284 xem-scp-cc   574464 Dec 11 10:31 enum2enum_val_loss_0.2189_lat2stat.h5\r\n",
      "-rw-rw---- 1 kfxl284 xem-scp-cc  3433112 Dec 11 10:31 enum2enum_val_loss_0.2189_sample_model.h5\r\n",
      "-rw-rw---- 1 kfxl284 xem-scp-cc 20549640 Dec 11 11:57 enum2enum_val_loss_0.4367_full.h5\r\n",
      "-rw-rw---- 1 kfxl284 xem-scp-cc      252 Dec 11 11:57 enum2enum_val_loss_0.4367_trainhist.pickle\r\n",
      "-rw-rw---- 1 kfxl284 xem-scp-cc     2881 Dec 11 11:57 enum2enum_val_loss_0.4367_history_plot.png\r\n",
      "-rw-rw---- 1 kfxl284 xem-scp-cc  2895864 Dec 11 11:57 enum2enum_val_loss_0.4367_mol2lat.h5\r\n",
      "-rw-rw---- 1 kfxl284 xem-scp-cc   583248 Dec 11 11:57 enum2enum_val_loss_0.4367_lat2stat.h5\r\n",
      "-rw-rw---- 1 kfxl284 xem-scp-cc  3433112 Dec 11 11:57 enum2enum_val_loss_0.4367_sample_model.h5\r\n",
      "-rw-rw---- 1 kfxl284 xem-scp-cc 20550024 Dec 11 14:45 enum2enum_val_loss_0.1885_full.h5\r\n",
      "-rw-rw---- 1 kfxl284 xem-scp-cc     3432 Dec 11 14:45 enum2enum_val_loss_0.1885_trainhist.pickle\r\n",
      "-rw-rw---- 1 kfxl284 xem-scp-cc    21310 Dec 11 14:45 enum2enum_val_loss_0.1885_history_plot.png\r\n",
      "-rw-rw---- 1 kfxl284 xem-scp-cc  2895880 Dec 11 14:45 enum2enum_val_loss_0.1885_mol2lat.h5\r\n",
      "-rw-rw---- 1 kfxl284 xem-scp-cc   583488 Dec 11 14:45 enum2enum_val_loss_0.1885_lat2stat.h5\r\n",
      "-rw-rw---- 1 kfxl284 xem-scp-cc  3433112 Dec 11 14:45 enum2enum_val_loss_0.1885_sample_model.h5\r\n"
     ]
    }
   ],
   "source": [
    "!ls -ltr models"
   ]
  },
  {
   "cell_type": "code",
   "execution_count": null,
   "metadata": {
    "collapsed": true
   },
   "outputs": [],
   "source": []
  }
 ],
 "metadata": {
  "kernelspec": {
   "display_name": "keras2 (conda, py3)",
   "language": "python",
   "name": "keras2"
  }
 },
 "nbformat": 4,
 "nbformat_minor": 2
}
